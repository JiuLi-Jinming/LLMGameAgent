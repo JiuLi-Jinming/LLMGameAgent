{
 "cells": [
  {
   "cell_type": "code",
   "execution_count": 8,
   "id": "5ec3e874-9ca1-4a11-b0c2-cd3c212e8ee2",
   "metadata": {},
   "outputs": [
    {
     "name": "stdout",
     "output_type": "stream",
     "text": [
      "Copyright (c) 1981, 1982, 1983 Infocom, Inc. All rights reserved.\n",
      "ZORK is a registered trademark of Infocom, Inc.\n",
      "Revision 88 / Serial number 840726\n",
      "\n",
      "West of House\n",
      "You are standing in an open field west of a white house, with a boarded front door.\n",
      "There is a small mailbox here.\n",
      "\n",
      "\n",
      "{'moves': 0, 'score': 0}\n",
      "************************************************************\n",
      "Obs:\n",
      "West of House\n",
      "You are standing in an open field west of a white house, with a boarded front door.\n",
      "There is a small mailbox here.\n",
      "\n",
      "\n",
      "Total Score 0 Moves 1\n",
      "--------------------\n",
      "interactable objs:\n",
      "{'The small mailbox is closed.': [('mailbox', 'NOUN', 'LOC'), ('small', 'ADJ', 'LOC')], 'The door is closed.': [('front', 'ADJ', 'LOC'), ('door', 'NOUN', 'LOC')], 'The house is a beautiful colonial house which is painted white. It is clear that the owners must have been extremely wealthy.': [('house', 'NOUN', 'LOC'), ('white', 'NOUN', 'LOC')], 'all': [('all', 'NOUN', 'LOC')]}\n",
      "\n",
      "valid action:\n",
      "['open mailbox', 'north', 'south', 'west']\n",
      "\n",
      "is world changed: False\n",
      "Scored 0 out of 350\n"
     ]
    }
   ],
   "source": [
    "from jericho import *\n",
    "# Create the environment, optionally specifying a random seed\n",
    "env = FrotzEnv(\"third-packages/z-machine-games-master/jericho-game-suite/zork1.z5\")\n",
    "initial_observation, info = env.reset()\n",
    "print(initial_observation)\n",
    "print(info)\n",
    "done = False\n",
    "while not done:\n",
    "    # Take an action in the environment using the step fuction.\n",
    "    # The resulting text-observation, reward, and game-over indicator is returned.\n",
    "    print('*'*60)\n",
    "    observation, reward, done, info = env.step('look')\n",
    "    print('Obs:\\n' + observation)\n",
    "    # Total score and move-count are returned in the info dictionary\n",
    "    print('Total Score', info['score'], 'Moves', info['moves'])\n",
    "    print('-'*20)\n",
    "    print('interactable objs:\\n'+ str(env._identify_interactive_objects()))\n",
    "    print()\n",
    "    print('valid action:\\n' + str(env.get_valid_actions()))\n",
    "    print()\n",
    "    print('is world changed: ' + str(env._world_changed()))\n",
    "    done = True\n",
    "print('Scored', info['score'], 'out of', env.get_max_score())"
   ]
  },
  {
   "cell_type": "code",
   "execution_count": 17,
   "id": "445d0557-363f-47a3-838e-e0148bc4e7d0",
   "metadata": {},
   "outputs": [
    {
     "name": "stdout",
     "output_type": "stream",
     "text": [
      "Copyright (c) 1981, 1982, 1983 Infocom, Inc. All rights reserved.\n",
      "ZORK is a registered trademark of Infocom, Inc.\n",
      "Revision 88 / Serial number 840726\n",
      "\n",
      "West of House\n",
      "You are standing in an open field west of a white house, with a boarded front door.\n",
      "There is a small mailbox here.\n",
      "\n",
      "\n",
      "{'moves': 0, 'score': 0}\n",
      "------------------------------------------------------------\n"
     ]
    }
   ],
   "source": [
    "env = FrotzEnv(\"third-packages/z-machine-games-master/jericho-game-suite/zork1.z5\")\n",
    "state = []\n",
    "\n",
    "initial_observation, initial_info = env.reset()\n",
    "done = False\n",
    "print(initial_observation)\n",
    "print(initial_info)\n",
    "\n",
    "state.append({'observation': initial_observation, 'info': initial_info})\n",
    "\n",
    "print('-' * 60)\n",
    "\n",
    "def run_act(act):\n",
    "    observation, reward, done, info = env.step(act)\n",
    "    state.append({'observation': observation, 'info': info})\n",
    "    \n",
    "    print(\"obs:\\n\"+observation)\n",
    "    print(\"info:\\n\"+str(info))\n",
    "    print(\"World Changed: \" + str(env._world_changed()))\n",
    "    print('-' * 60)\n",
    "    #print(\"Interactive objects: \" + env.identify_interactive_objects())\n"
   ]
  },
  {
   "cell_type": "code",
   "execution_count": null,
   "id": "1b5e0b78-dac6-467c-884a-362ca27f49d4",
   "metadata": {},
   "outputs": [],
   "source": []
  },
  {
   "cell_type": "code",
   "execution_count": 18,
   "id": "d2195a5a0cf2fa63",
   "metadata": {
    "scrolled": true
   },
   "outputs": [
    {
     "name": "stdout",
     "output_type": "stream",
     "text": [
      "============================================================\n"
     ]
    },
    {
     "name": "stdin",
     "output_type": "stream",
     "text": [
      " look\n"
     ]
    },
    {
     "name": "stdout",
     "output_type": "stream",
     "text": [
      "------------------------------------------------------------\n",
      "obs:\n",
      "West of House\n",
      "You are standing in an open field west of a white house, with a boarded front door.\n",
      "There is a small mailbox here.\n",
      "\n",
      "\n",
      "info:\n",
      "{'moves': 1, 'score': 0}\n",
      "World Changed: False\n",
      "------------------------------------------------------------\n",
      "============================================================\n"
     ]
    },
    {
     "name": "stdin",
     "output_type": "stream",
     "text": [
      " open mailbox\n"
     ]
    },
    {
     "name": "stdout",
     "output_type": "stream",
     "text": [
      "------------------------------------------------------------\n",
      "obs:\n",
      "Opening the small mailbox reveals a leaflet.\n",
      "\n",
      "\n",
      "info:\n",
      "{'moves': 2, 'score': 0}\n",
      "World Changed: True\n",
      "------------------------------------------------------------\n",
      "============================================================\n"
     ]
    },
    {
     "name": "stdin",
     "output_type": "stream",
     "text": [
      " look\n"
     ]
    },
    {
     "name": "stdout",
     "output_type": "stream",
     "text": [
      "------------------------------------------------------------\n",
      "obs:\n",
      "West of House\n",
      "You are standing in an open field west of a white house, with a boarded front door.\n",
      "There is a small mailbox here.\n",
      "The small mailbox contains:\n",
      "  A leaflet\n",
      "\n",
      "\n",
      "info:\n",
      "{'moves': 3, 'score': 0}\n",
      "World Changed: False\n",
      "------------------------------------------------------------\n",
      "============================================================\n"
     ]
    },
    {
     "name": "stdin",
     "output_type": "stream",
     "text": [
      " north\n"
     ]
    },
    {
     "name": "stdout",
     "output_type": "stream",
     "text": [
      "------------------------------------------------------------\n",
      "obs:\n",
      "North of House\n",
      "You are facing the north side of a white house. There is no door here, and all the windows are boarded up. To the north a narrow path winds through the trees.\n",
      "\n",
      "\n",
      "info:\n",
      "{'moves': 4, 'score': 0}\n",
      "World Changed: True\n",
      "------------------------------------------------------------\n",
      "============================================================\n"
     ]
    },
    {
     "name": "stdin",
     "output_type": "stream",
     "text": [
      " south\n"
     ]
    },
    {
     "name": "stdout",
     "output_type": "stream",
     "text": [
      "------------------------------------------------------------\n",
      "obs:\n",
      "The windows are all boarded.\n",
      "\n",
      "\n",
      "info:\n",
      "{'moves': 5, 'score': 0}\n",
      "World Changed: False\n",
      "------------------------------------------------------------\n",
      "============================================================\n"
     ]
    },
    {
     "name": "stdin",
     "output_type": "stream",
     "text": [
      " END\n"
     ]
    },
    {
     "name": "stdout",
     "output_type": "stream",
     "text": [
      "------------------------------------------------------------\n"
     ]
    }
   ],
   "source": [
    "while not done:\n",
    "    print('=' * 60)\n",
    "    user_input = input()\n",
    "    print('-' * 60)\n",
    "    if (user_input == 'END'): \n",
    "        break\n",
    "    run_act(user_input)"
   ]
  },
  {
   "cell_type": "code",
   "execution_count": null,
   "id": "775b1f91ca4deb78",
   "metadata": {},
   "outputs": [],
   "source": [
    "env.get_world_objects()"
   ]
  },
  {
   "cell_type": "code",
   "execution_count": 21,
   "id": "2f7b7e98a0278196",
   "metadata": {
    "jupyter": {
     "is_executing": true
    }
   },
   "outputs": [],
   "source": [
    "import json\n",
    "from jericho import *\n",
    "\n",
    "def read_json_file(filename):\n",
    "    data = []\n",
    "    with open(filename) as f:\n",
    "        data = json.load(f)\n",
    "    return data\n",
    "\n",
    "game_name = \"curses\"\n",
    "\n",
    "filename = f'data/Walkthrough Text/walkthrough_{game_name}_obs&inv.json'"
   ]
  },
  {
   "cell_type": "code",
   "execution_count": 22,
   "id": "581717f8-6eb1-4770-9ba7-16214d128d9b",
   "metadata": {
    "jupyter": {
     "is_executing": true
    }
   },
   "outputs": [
    {
     "name": "stdout",
     "output_type": "stream",
     "text": [
      "\n",
      "\n",
      "\n",
      "\n",
      "\n",
      "\n",
      "\n",
      "\n",
      "\n",
      "\n",
      "\n",
      "\n",
      "                                                      Welcome to CURSES\n",
      "\n",
      "\n",
      "                                                [Please press SPACE to begin.]\n",
      "                                                                                                          Nine times she waved the fluttering wimple round,                                                     And made a little plot of magic ground.                                                     And in that daisied circle, as men say,                                                     Is Merlin prisoner till the judgement day...                                                                                                          -- Matthew Arnold, Tristram and Iseult III (1852)                                                     \n",
      "\n",
      "\n",
      "\n",
      "It's become a matter of pride now not to give up. That tourist map of Paris must be up here somewhere in all this clutter, even if it has been five years since your last trip. And it's your own fault. It looks as if your great-grandfather was the last person to tidy up these lofts...\n",
      "\n",
      "CURSES\n",
      "An Interactive Diversion\n",
      "Copyright (c) 1993, 1994, 1995 by Graham Nelson.\n",
      "Release 16 / Serial number 951024 / Inform v1600 Library 5/12\n",
      "Standard interpreter 1.0\n",
      "\n",
      "Attic\n",
      "The attics, full of low beams and awkward angles, begin here in a relatively tidy area which extends north, south and east. The wooden floorboards seem fairly sound, just as well considering how heavy all these teachests are. But the old wiring went years ago, and there's no electric light.\n",
      "\n",
      "A hinged trapdoor in the floor stands open, and light streams in from below.\n",
      "{'moves': 1, 'score': 0}\n",
      "Results saved in data/Walkthrough Text/walkthrough_curses_obs&inv.json\n"
     ]
    }
   ],
   "source": [
    "states = []\n",
    "\n",
    "env = FrotzEnv(f\"third-packages/z-machine-games-master/jericho-game-suite/{game_name}.z5\")\n",
    "\n",
    "initial_observation, initial_info = env.reset()\n",
    "done = False\n",
    "print(initial_observation)\n",
    "print(initial_info)\n",
    "\n",
    "states.append({'observation': initial_observation, 'inventory': \"\", 'info': initial_info})\n",
    "\n",
    "walkthrough = env.get_walkthrough()\n",
    "for act in walkthrough:\n",
    "    env.step(act)\n",
    "    state = env.get_state()\n",
    "    if env._world_changed() and not done:\n",
    "        observation, reward, done, info = env.step('look')\n",
    "        env.set_state(state)\n",
    "        inventory, reward, done, info = env.step('inventory')\n",
    "        env.set_state(state)\n",
    "        inventory = inventory.split('\\n\\n')[0]\n",
    "        states.append({'observation': observation, 'inventory': inventory, 'info': info})\n",
    "    \n",
    "with open(filename, 'w') as file:\n",
    "    for state in states:\n",
    "        file.write(json.dumps(state) + '\\n')\n",
    "    print(f\"Results saved in {filename}\")"
   ]
  },
  {
   "cell_type": "code",
   "execution_count": null,
   "id": "34eafb9e-88c0-4097-9424-a205efe7113f",
   "metadata": {},
   "outputs": [],
   "source": []
  },
  {
   "cell_type": "code",
   "execution_count": null,
   "id": "c907d04aab9005ac",
   "metadata": {},
   "outputs": [],
   "source": []
  }
 ],
 "metadata": {
  "kernelspec": {
   "display_name": "Conda (p2_gameagents_3.11)",
   "language": "python",
   "name": "p2_gameagents_3.11"
  },
  "language_info": {
   "codemirror_mode": {
    "name": "ipython",
    "version": 3
   },
   "file_extension": ".py",
   "mimetype": "text/x-python",
   "name": "python",
   "nbconvert_exporter": "python",
   "pygments_lexer": "ipython3",
   "version": "3.11.10"
  }
 },
 "nbformat": 4,
 "nbformat_minor": 5
}
