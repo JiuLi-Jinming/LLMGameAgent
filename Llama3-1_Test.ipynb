{
 "cells": [
  {
   "cell_type": "code",
   "execution_count": 1,
   "id": "initial_id",
   "metadata": {
    "ExecuteTime": {
     "end_time": "2024-10-17T08:26:27.753062Z",
     "start_time": "2024-10-17T08:26:22.177395Z"
    }
   },
   "outputs": [
    {
     "data": {
      "application/vnd.jupyter.widget-view+json": {
       "model_id": "72980bb926d349519821d96e23d59e09",
       "version_major": 2,
       "version_minor": 0
      },
      "text/plain": [
       "Loading checkpoint shards:   0%|          | 0/2 [00:00<?, ?it/s]"
      ]
     },
     "metadata": {},
     "output_type": "display_data"
    },
    {
     "data": {
      "application/vnd.jupyter.widget-view+json": {
       "model_id": "c902160ee7554ea5b25cde5d4d0f80ff",
       "version_major": 2,
       "version_minor": 0
      },
      "text/plain": [
       "Loading checkpoint shards:   0%|          | 0/4 [00:00<?, ?it/s]"
      ]
     },
     "metadata": {},
     "output_type": "display_data"
    }
   ],
   "source": [
    "import transformers\n",
    "import torch\n",
    "\n",
    "dict = \"/media/jinming/Disk/Jinming/LLM/\"\n",
    "\n",
    "model_id = dict + \"meta-llama/Llama-3.2-1B-Instruct\"\n",
    "\n",
    "tokenizer_oneB = transformers.AutoTokenizer.from_pretrained(model_id)\n",
    "\n",
    "pipeline_oneB = transformers.pipeline(\n",
    "    \"text-generation\",\n",
    "    model=model_id,\n",
    "    pad_token_id = tokenizer_oneB.eos_token_id,\n",
    "    torch_dtype=torch.bfloat16,\n",
    "    device_map=\"auto\",\n",
    ")\n",
    "\n",
    "model_id = dict + \"meta-llama/Llama-3.2-3B-Instruct\"\n",
    "\n",
    "tokenizer_threeB = transformers.AutoTokenizer.from_pretrained(model_id)\n",
    "\n",
    "pipeline_threeB = transformers.pipeline(\n",
    "    \"text-generation\",\n",
    "    model=model_id,\n",
    "    pad_token_id = tokenizer_threeB.eos_token_id,\n",
    "    torch_dtype=torch.bfloat16,\n",
    "    device_map=\"auto\",\n",
    ")\n",
    "\n",
    "\n",
    "model_id = dict + \"meta-llama/Meta-Llama-3.1-8B-Instruct\"\n",
    "\n",
    "tokenizer_eigB = transformers.AutoTokenizer.from_pretrained(model_id)\n",
    "\n",
    "pipeline_eigB = transformers.pipeline(\n",
    "    \"text-generation\",\n",
    "    model=model_id,\n",
    "    pad_token_id = tokenizer_eigB.eos_token_id,\n",
    "    torch_dtype=torch.bfloat16,\n",
    "    device_map=\"auto\",\n",
    ")"
   ]
  },
  {
   "cell_type": "code",
   "execution_count": 2,
   "id": "785066973f24f836",
   "metadata": {
    "scrolled": true
   },
   "outputs": [
    {
     "data": {
      "text/markdown": [
       "messages = [\n",
       "    {\"role\": \"system\", \"content\": r\"\"\"\n",
       "You are a chatbot who is good at entity analysis and relation extraction.\n",
       "You're going to extract the triples <sub, relation, obj> from an input sentence, which the sentence comes from the text-based game Zork1. That means you only need to pay attention to where the character ('You') is located, what objects are in this location, and the properties of objects. \n",
       "\n",
       "Tips: \n",
       "(1) When representing the character's ('You') location, always use 'in' as the relation. If the input uses other forms of spatial description (like 'are in', 'are facing', 'are standing', 'are behind', 'are above', 'are below', 'are in front'), these should be ignored in the output. The location of 'You' should be represented only once using the 'in' relationship.\n",
       "(2) When representing an object with additional decorative descriptions, such as 'on xxx', 'in xxx' 'with xxx', use their preposition or a simple representation as the relationships.\n",
       "(3) If the input asks for something to 'continue xxx' or 'do xxx', use '<location/door/objects/etc., need/require/etc., something to xxx>'.\n",
       "(4) For locations and objects, use 'have' to represent objects present in the location.\n",
       "\n",
       "Here are some examples:\n",
       "{\n",
       "1.\n",
       "{\n",
       "Input: \"You are standing in an open field west of a white house, with a boarded front door. There is a small mailbox here.\"\n",
       "Expected output: \"<You, in, west of a white house>, <west of a white house, with, boarded front door>, <west of a white house, have, small mailbox>\"\n",
       "}\n",
       "2.\n",
       "{\n",
       "Input: \"You would need a machete to go further west.\"\n",
       "Expected output: \"<You, in, forest>, <forest, need, machete to go further west>\"\n",
       "}\n",
       "3.\n",
       "{\n",
       "Input: \"You are in a clearing, with a forest surrounding you on all sides. A path leads south. On the ground is a pile of leaves.\"\n",
       "Expected output: \"<You, in, clearing>, <clearing, with, forest surrounding>, <clearing, have, path leads south>, <clearing, have, pile of leaves>\"\n",
       "}\n",
       "}\n",
       "\n",
       "Now, please extract the relationships for user input step by step and merge the results as one in \"|start| outputs |end|\".\n",
       "     \"\"\"},\n",
       "    {\"role\": \"user\", \"content\": r\"\"\"\n",
       "Input: \"\n",
       "You are facing the north side of a white house. There is no door here, and all the windows are boarded up. To the north a narrow path winds through the trees.\n",
       "\"   \n",
       "    \"\"\"},\n",
       "]\n"
      ],
      "text/plain": [
       "<IPython.core.display.Markdown object>"
      ]
     },
     "metadata": {},
     "output_type": "display_data"
    }
   ],
   "source": [
    "%%markdown\n",
    "messages = [\n",
    "    {\"role\": \"system\", \"content\": r\"\"\"\n",
    "You are a chatbot who is good at entity analysis and relation extraction.\n",
    "You're going to extract the triples <sub, relation, obj> from an input sentence, which the sentence comes from the text-based game Zork1. That means you only need to pay attention to where the character ('You') is located, what objects are in this location, and the properties of objects. \n",
    "\n",
    "Tips: \n",
    "(1) When representing the character's ('You') location, always use 'in' as the relation. If the input uses other forms of spatial description (like 'are in', 'are facing', 'are standing', 'are behind', 'are above', 'are below', 'are in front'), these should be ignored in the output. The location of 'You' should be represented only once using the 'in' relationship.\n",
    "(2) When representing an object with additional decorative descriptions, such as 'on xxx', 'in xxx' 'with xxx', use their preposition or a simple representation as the relationships.\n",
    "(3) If the input asks for something to 'continue xxx' or 'do xxx', use '<location/door/objects/etc., need/require/etc., something to xxx>'.\n",
    "(4) For locations and objects, use 'have' to represent objects present in the location.\n",
    "\n",
    "Here are some examples:\n",
    "{\n",
    "1.\n",
    "{\n",
    "Input: \"You are standing in an open field west of a white house, with a boarded front door. There is a small mailbox here.\"\n",
    "Expected output: \"<You, in, west of a white house>, <west of a white house, with, boarded front door>, <west of a white house, have, small mailbox>\"\n",
    "}\n",
    "2.\n",
    "{\n",
    "Input: \"You would need a machete to go further west.\"\n",
    "Expected output: \"<You, in, forest>, <forest, need, machete to go further west>\"\n",
    "}\n",
    "3.\n",
    "{\n",
    "Input: \"You are in a clearing, with a forest surrounding you on all sides. A path leads south. On the ground is a pile of leaves.\"\n",
    "Expected output: \"<You, in, clearing>, <clearing, with, forest surrounding>, <clearing, have, path leads south>, <clearing, have, pile of leaves>\"\n",
    "}\n",
    "}\n",
    "\n",
    "Now, please extract the relationships for user input step by step and merge the results as one in \"|start| outputs |end|\".\n",
    "     \"\"\"},\n",
    "    {\"role\": \"user\", \"content\": r\"\"\"\n",
    "Input: \"\n",
    "You are facing the north side of a white house. There is no door here, and all the windows are boarded up. To the north a narrow path winds through the trees.\n",
    "\"   \n",
    "    \"\"\"},\n",
    "]\n"
   ]
  },
  {
   "cell_type": "code",
   "execution_count": 3,
   "id": "e3c9f04d-a56f-4c0a-bb5d-fad8470dcbaa",
   "metadata": {},
   "outputs": [
    {
     "data": {
      "text/markdown": [
       "messages = [\n",
       "    {\"role\": \"system\", \"content\": r\"\"\"You are a chatbot who is good at entities analysis and relation extractions.\n",
       "You're going to extract the triples  <sub, relation, obj> from an input sentence, which the sentence comes from the text-based game Zork1. That means you only need to pay attention to where the char ('You') is located, what objects are in this location and the properties of objects. \n",
       "\n",
       "Tips: \n",
       "(1) When representing location, use 'in' and 'have' for objects in the location. \n",
       "(2) When representing an object with additional decorative describes, such as 'on xxx', 'in xxx' 'with xxx', using their preposition or simple representation as the relationships.\n",
       "(3) If it asks for something to 'continue xxx' or 'do xxx' in input, use such as '<location/door/objects/etc. , need/require/etc. , something to xxx>'.\n",
       "(4) For Char's ('You') location, use 'in' as the relation for all relative represents and only count once for each input; for example, 'are in', 'are facing', 'are standing', 'are behind', 'are above', 'are below', 'are in front', and so on all use 'in'.\n",
       "\n",
       "Here are some examples:\n",
       "{\n",
       "1.\n",
       "{\n",
       "Input: \"You are standing in an open field west of a white house, with a boarded front door. There is a small mailbox here .\"\n",
       "Expect output: \"<You, in, west of a white house>, <west of a white house, with, boarded front door>, <west of a white house, have, small mailbox>\"\n",
       "}\n",
       "2.\n",
       "{\n",
       "Input: \"You would need a machete to go further west.\"\n",
       "Expect output: \"<You, in, forest>, <forest, need, machete to go further west>\"\n",
       "}\n",
       "3.\n",
       "{\n",
       "Input: \"You are in a clearing, with a forest surrounding you on all sides. A path leads south. On the ground is a pile of leaves.\"\n",
       "Expect output: \"<You, in, Clearing>, <Clearing , with, forest  surrounding>, <Clearing, have, path leads south>, <Clearing, have, pile of leaves>\"\n",
       "}\n",
       "}\n",
       "\n",
       "Now, please extract the relationships for user input step by step and merge the results as one in \"|start| outputs |end|\".\n",
       "     \"\"\"},\n",
       "    {\"role\": \"user\", \"content\": r\"\"\"\n",
       "Input: \"\n",
       "You are facing the north side of a white house. There is no door here, and all the windows are boarded up. To the north a narrow path winds through the trees.\n",
       "\"   \n",
       "    \"\"\"},\n",
       "]\n"
      ],
      "text/plain": [
       "<IPython.core.display.Markdown object>"
      ]
     },
     "metadata": {},
     "output_type": "display_data"
    }
   ],
   "source": [
    "%%markdown\n",
    "messages = [\n",
    "    {\"role\": \"system\", \"content\": r\"\"\"You are a chatbot who is good at entities analysis and relation extractions.\n",
    "You're going to extract the triples  <sub, relation, obj> from an input sentence, which the sentence comes from the text-based game Zork1. That means you only need to pay attention to where the char ('You') is located, what objects are in this location and the properties of objects. \n",
    "\n",
    "Tips: \n",
    "(1) When representing location, use 'in' and 'have' for objects in the location. \n",
    "(2) When representing an object with additional decorative describes, such as 'on xxx', 'in xxx' 'with xxx', using their preposition or simple representation as the relationships.\n",
    "(3) If it asks for something to 'continue xxx' or 'do xxx' in input, use such as '<location/door/objects/etc. , need/require/etc. , something to xxx>'.\n",
    "(4) For Char's ('You') location, use 'in' as the relation for all relative represents and only count once for each input; for example, 'are in', 'are facing', 'are standing', 'are behind', 'are above', 'are below', 'are in front', and so on all use 'in'.\n",
    "\n",
    "Here are some examples:\n",
    "{\n",
    "1.\n",
    "{\n",
    "Input: \"You are standing in an open field west of a white house, with a boarded front door. There is a small mailbox here .\"\n",
    "Expect output: \"<You, in, west of a white house>, <west of a white house, with, boarded front door>, <west of a white house, have, small mailbox>\"\n",
    "}\n",
    "2.\n",
    "{\n",
    "Input: \"You would need a machete to go further west.\"\n",
    "Expect output: \"<You, in, forest>, <forest, need, machete to go further west>\"\n",
    "}\n",
    "3.\n",
    "{\n",
    "Input: \"You are in a clearing, with a forest surrounding you on all sides. A path leads south. On the ground is a pile of leaves.\"\n",
    "Expect output: \"<You, in, Clearing>, <Clearing , with, forest  surrounding>, <Clearing, have, path leads south>, <Clearing, have, pile of leaves>\"\n",
    "}\n",
    "}\n",
    "\n",
    "Now, please extract the relationships for user input step by step and merge the results as one in \"|start| outputs |end|\".\n",
    "     \"\"\"},\n",
    "    {\"role\": \"user\", \"content\": r\"\"\"\n",
    "Input: \"\n",
    "You are facing the north side of a white house. There is no door here, and all the windows are boarded up. To the north a narrow path winds through the trees.\n",
    "\"   \n",
    "    \"\"\"},\n",
    "]\n"
   ]
  },
  {
   "cell_type": "code",
   "execution_count": 28,
   "id": "25fe6494-6f16-4491-bd4e-e059a208e62d",
   "metadata": {
    "scrolled": true
   },
   "outputs": [],
   "source": [
    "#%%markdown\n",
    "# GPT_template\n",
    "messages = [\n",
    "    {\"role\": \"system\", \"content\": r\"\"\"\n",
    "You are a chatbot who is good at entity analysis and relation extraction.\n",
    "You're going to extract the triples <sub, relation, obj> from an input Observation and Inventory, which the sentence comes from the text-based game Zork1. That means you only need to pay attention to where the character ('You') is located, what objects are in this location, and the properties of objects. \n",
    "\n",
    "Tips: \n",
    "(1) When representing the character's ('You') location, always use 'in' as the relation. If the input uses other forms of spatial description (like 'are in', 'are facing', 'are standing', 'are behind', 'are above', 'are below', 'are in front'), these should be ignored in the output. The location of 'You' should be represented only once using the 'in' relationship. Also, if the start of input seems to be a location, use it as the location name.\n",
    "(2) When representing an object with additional decorative descriptions, such as 'on xxx', 'in xxx' 'with xxx', use their preposition or a simple representation as the relationships.\n",
    "(3) If the input asks for something to 'continue xxx' or 'do xxx', use '<location/door/objects/etc., need/require/etc., something to xxx>'.\n",
    "(4) For locations and objects, use 'have' to represent objects present in the location.\n",
    "(5) If an object's properties are nearly close, you can summarize them in one.\n",
    "(6) If nothing happened, output none.\n",
    "(7) If the Inventory is not empty, please create relationships with the objects and character ('You')\n",
    "\n",
    "Here are some examples:\n",
    "{\n",
    "1.\n",
    "{\n",
    "Observation: \"You are standing in an open field west of a white house, with a boarded front door. There is a small mailbox here.\"\n",
    "Inventory: \"\"\n",
    "Expected output: \"|start| <You, in, west of a white house>, <west of a white house, with, boarded front door>, <west of a white house, have, small mailbox> |end|\"\n",
    "}\n",
    "2.\n",
    "{\n",
    "Observation: \"You would need a machete to go further west.\"\n",
    "Inventory: \"\"\n",
    "Expected output: \"|start| <You, in, forest>, <forest, need, machete to go further west> |end|\"\n",
    "}\n",
    "3.\n",
    "{\n",
    "Observation: \"You are in a clearing, with a forest surrounding you on all sides. A path leads south. On the ground is a pile of leaves.\"\n",
    "Inventory: \"\"\n",
    "Expected output: \"|start| <You, in, clearing>, <clearing, with, forest surrounding>, <clearing, have, path leads south>, <clearing, have, pile of leaves> |end|\"\n",
    "}\n",
    "4.\n",
    "{\n",
    "Observation: \"\n",
    "Forest Path\n",
    "This is a path winding through a dimly lit forest. The path heads north-south here. One particularly large tree with some low branches stands at the edge of the path.\"\n",
    "Inventory: \"\"You are carrying:\\n  A clove of garlic\\n  A jewel-encrusted egg\\n\"\n",
    "Expected output:\"|start| <You, in, forest path>, <forest path, through, dimly lit forest>, <forest path, heads, north-south>, <forest path, have, large tree>, <large tree, with, low branches>, <large tree, at, edge of path>, <You, have, clove of garlic>, <You, have, jewel-encrusted egg> |end|\"\n",
    "}\n",
    "}\n",
    "\n",
    "Now, please extract the relationships for user input step by step and merge the results as one in \"|start| * |end|\", where * are the results.\n",
    "     \"\"\"},\n",
    "    {\"role\": \"user\", \"content\": r\"\"\"\n",
    "Observation: \"\n",
    "Forest Path\n",
    "This is a path winding through a dimly lit forest. The path heads north-south here. One particularly large tree with some low branches stands at the edge of the path.\"   \n",
    "    \"\"\"},\n",
    "]"
   ]
  },
  {
   "cell_type": "code",
   "execution_count": 37,
   "id": "c5d83d62-a4b9-45a7-9a4f-1d120c443118",
   "metadata": {},
   "outputs": [],
   "source": [
    "%%markdown\n",
    "prompt = r\"\"\"\n",
    "You're going to extract the triples vector <sub, relation, obj> from an input Observation and Inventory, which the sentence comes from the text-based game Zork1. That means you only need to pay attention to where the character ('You') is located, what objects are in this location, and the properties of objects. \n",
    "\n",
    "Tips: \n",
    "(1) When representing the character's ('You') location, always use 'in' as the relation. If the input uses other forms of spatial description (like 'are in', 'are facing', 'are standing', 'are behind', 'are above', 'are below', 'are in front'), these should be ignored in the output. The location of 'You' should be represented only once using the 'in' relationship. Also, if the start of input seems to be a location, use it as the location name.\n",
    "(2) For the relation between locations and objects, use 'have' to represent objects present in the location. The relations should only add the object itself in triples vector as obj; for the decorative descriptions of the object, please use the rule of Tips 3.\n",
    "(3) When representing an object with additional decorative descriptions, such as 'on', 'in', 'with', 'to', 'above', etc., use their preposition or a simple representation as the relationships.\n",
    "(4) If the input asks for something to 'continue xxx' or 'do xxx', use '<location/door/objects/etc., need/require/etc., something to xxx>'.\n",
    "(5) If an object's properties are nearly close, you can summarize them in one.\n",
    "(6) If nothing happened, output none.\n",
    "(7) If the Inventory is not empty, please create relationships with the objects and character ('You'). If Inventory is empty or shows 'You don't have anything', output none.\n",
    "(8) For any object in the current location leading by a direction (like 'to the north', 'up to' and so on) to a new location or any direction can go from observation, use the <Current Location, direction, new location/none> to represent. Like \"Hall Outside Computer Site This is the north end of the third floor of Hodges Hall.  To the southwest is the entrance to the Computer Site\" can be represented as \"<Hall Outside Computer Site, southwest, Computer Site>\".\n",
    "\n",
    "Here are some examples of inputs and expected results in final output (no reasoning details included; you may need to think during the inferring):\n",
    "{\n",
    "1.\n",
    "{\n",
    "Observation: \"You are standing in an open field west of a white house, with a boarded front door. There is a small mailbox here.\"\n",
    "Inventory: \"\"\n",
    "Expected output: \"|start| <You, in, west of a white house>, <west of a white house, with, boarded front door>, <west of a white house, have, small mailbox> |end|\"\n",
    "}\n",
    "2.\n",
    "{\n",
    "Observation: \"You would need a machete to go further west.\"\n",
    "Inventory: \"\"\n",
    "Expected output: \"|start| <You, in, forest>, <forest, need, machete to go further west> |end|\"\n",
    "}\n",
    "3.\n",
    "{\n",
    "Observation: \"\n",
    "Hall Outside Computer Site\n",
    "This is the north end of the third floor of Hodges Hall.  To the southwest is the entrance to the Computer Site, and to the east are stairs up to the fourth floor.  Stairs down to lower floors are to the west.\n",
    "\n",
    "To one side, a water fountain hums quietly.\"\n",
    "Inventory: \"You are carrying nothing.\"\n",
    "Expected output: \"|start| <You, in, Hall Outside Computer Site>, <Hall Outside Computer Site, is, the north end of the third floor of Hodges Hall>, <Hall Outside Computer Site, have, entrance>, <Hall Outside Computer Site, to southwest, Computer Site>, <Hall Outside Computer Site, have, stairs>, <Hall Outside Computer Site, up to, fourth floor>, <Hall Outside Computer Site, down to, lower floors to the west>, <Hall Outside Computer Site, have, water fountain> |end|\"\n",
    "}\n",
    "4.\n",
    "{\n",
    "Observation: \"\n",
    "Forest Path\n",
    "This is a path winding through a dimly lit forest. The path heads north-south here. One particularly large tree with some low branches stands at the edge of the path.\"\n",
    "Inventory: \"You are carrying:\\n  A clove of garlic\\n  A jewel-encrusted egg\\n\"\n",
    "Expected output:\"|start| <You, in, forest path>, <forest path, through, dimly lit forest>, <forest path, heads, north-south>, <forest path, have, large tree>, <large tree, with, low branches>, <large tree, at, edge of path>, <You, have, clove of garlic>, <You, have, jewel-encrusted egg> |end|\"\n",
    "}\n",
    "}\n",
    "\n",
    "Now, please extract the relationships for the input step by step and merge the results as one in \"|start| * |end|\", where * are the results.\n",
    "\n",
    "\n",
    "\"\"\""
   ]
  },
  {
   "cell_type": "markdown",
   "id": "a5e22428-b0ff-4a3f-b7d9-81babbc33165",
   "metadata": {},
   "source": [
    "# 1B"
   ]
  },
  {
   "cell_type": "code",
   "execution_count": 29,
   "id": "aa6f2da5-273f-439e-b50f-9d8223531b17",
   "metadata": {},
   "outputs": [
    {
     "name": "stdout",
     "output_type": "stream",
     "text": [
      "To extract the relationships for the given input, I will follow the steps and guidelines provided.\n",
      "\n",
      "**Step 1: Identify the location of 'You'**\n",
      "\n",
      "The input mentions \"You are in a clearing, with a forest surrounding you on all sides.\" This indicates that 'You' is currently in a clearing. Therefore, the location of 'You' is \"in, clearing\".\n",
      "\n",
      "**Step 2: Identify the objects in the location**\n",
      "\n",
      "The input mentions \"One particularly large tree with some low branches stands at the edge of the path.\" This indicates that there is a large tree with low branches in the clearing. Therefore, the objects in the clearing are \"one, large tree, with, low branches\".\n",
      "\n",
      "**Step 3: Identify the properties of objects**\n",
      "\n",
      "The input mentions \"The path heads north-south here.\" This indicates that the path is heading north-south. Therefore, the property of the large tree is \"north-south\".\n",
      "\n",
      "**Step 4: Represent the relationships**\n",
      "\n",
      "Based on the steps above, the relationships are:\n",
      "\n",
      "* \"You are in, clearing\"\n",
      "* \"one, large tree, with, low branches\"\n",
      "* \"The path heads north-south\"\n",
      "\n",
      "**Step 5: Merge the results**\n",
      "\n",
      "To merge the results, I will combine the location and objects with their properties. Since the input mentions \"one, large tree, with, low branches\", I will represent the large tree as a single object with its properties.\n",
      "\n",
      "The merged output is:\n",
      "\n",
      "|start| outputs |end|\n",
      "| --- | --- | --- |\n",
      "| You, in, clearing | one, large tree, with, low branches | The path heads north-south |\n"
     ]
    }
   ],
   "source": [
    "outputs_oneB = pipeline_oneB(\n",
    "    messages,\n",
    "    max_new_tokens=512,\n",
    "    temperature=0.2,\n",
    "    do_sample = True,\n",
    "    top_p=0.4,\n",
    ")\n",
    "print(outputs_oneB[0][\"generated_text\"][-1]['content'])"
   ]
  },
  {
   "cell_type": "markdown",
   "id": "05bd8027-3030-4a19-8dda-ae9dc24d6240",
   "metadata": {},
   "source": [
    "# 3B"
   ]
  },
  {
   "cell_type": "code",
   "execution_count": 30,
   "id": "bf578411-a30c-469d-8048-f19e95ab7f59",
   "metadata": {},
   "outputs": [
    {
     "name": "stdout",
     "output_type": "stream",
     "text": [
      "Here are the extracted relationships:\n",
      "\n",
      "1. <You, in, Forest Path>\n",
      "2. <Forest Path, have, One particularly large tree with some low branches>\n",
      "3. <Forest Path, have, path winding through a dimly lit forest>\n",
      "4. <Forest Path, have, The path heads north-south here>\n",
      "5. <One particularly large tree with some low branches, stand, at the edge of the path>\n",
      "6. <One particularly large tree with some low branches, have, some low branches>\n",
      "7. <One particularly large tree with some low branches, have, One particularly large tree with some low branches>\n",
      "\n",
      "However, we can merge the results as one in \"|start| outputs |end|\". Here is the final output:\n",
      "\n",
      "|start| \n",
      "<You, in, Forest Path> \n",
      "<Forest Path, have, One particularly large tree with some low branches> \n",
      "<Forest Path, have, path winding through a dimly lit forest> \n",
      "<Forest Path, have, The path heads north-south here> \n",
      "<One particularly large tree with some low branches, stand, at the edge of the path> \n",
      "<One particularly large tree with some low branches, have, some low branches> \n",
      "<One particularly large tree with some low branches, have, One particularly large tree with some low branches> \n",
      "|end|\n"
     ]
    }
   ],
   "source": [
    "outputs_threeB = pipeline_threeB(\n",
    "    messages,\n",
    "    max_new_tokens=512,\n",
    "    temperature=0.2,\n",
    "    do_sample = True,\n",
    "    top_p=0.4,   \n",
    ")\n",
    "print(outputs_threeB[0][\"generated_text\"][-1]['content'])"
   ]
  },
  {
   "cell_type": "markdown",
   "id": "f5b2c304-f72a-4e56-b807-775d5dd1a213",
   "metadata": {},
   "source": [
    "# 8B"
   ]
  },
  {
   "cell_type": "code",
   "execution_count": 36,
   "id": "c8ab453d-2e3c-441f-be55-4a55f0f9f25f",
   "metadata": {},
   "outputs": [
    {
     "name": "stdout",
     "output_type": "stream",
     "text": [
      "To extract the relationships, I will analyze the input step by step:\n",
      "\n",
      "1. \"Forest Path\" seems to be the location name, so I will use it as the location name.\n",
      "2. \"This is a path winding through a dimly lit forest.\" - This sentence describes the location, but it doesn't provide any useful information for entity analysis. \n",
      "3. \"The path heads north-south here.\" - This sentence describes the location, but it doesn't provide any useful information for entity analysis. \n",
      "4. \"One particularly large tree with some low branches stands at the edge of the path.\" - This sentence describes an object in the location. The object is \"large tree with some low branches\" and it is \"at the edge of the path\".\n",
      "\n",
      "Now, I will extract the relationships:\n",
      "\n",
      "- The location of 'You' is \"Forest Path\", so the first relationship is: <You, in, Forest Path>\n",
      "- The object \"large tree with some low branches\" is in the location \"Forest Path\", so the second relationship is: <Forest Path, have, large tree with some low branches>\n",
      "- The object \"large tree with some low branches\" is \"at the edge of the path\", so the third relationship is: <large tree with some low branches, at, edge of the path>\n",
      "\n",
      "Now, I will merge the results as one in \"|start| outputs |end|\":\n",
      "|start| <You, in, Forest Path>, <Forest Path, have, large tree with some low branches>, <large tree with some low branches, at, edge of the path> |end|\n"
     ]
    }
   ],
   "source": [
    "outputs_eigB = pipeline_eigB(\n",
    "    messages,\n",
    "    max_new_tokens=512,\n",
    "    temperature=0.6,\n",
    "    do_sample = True,\n",
    "    top_p=0.4,    \n",
    ")\n",
    "print(outputs_eigB[0][\"generated_text\"][-1]['content'])"
   ]
  },
  {
   "cell_type": "code",
   "execution_count": null,
   "id": "daab1951-e112-47ac-983e-cd5c63ae5816",
   "metadata": {},
   "outputs": [],
   "source": []
  }
 ],
 "metadata": {
  "kernelspec": {
   "display_name": "Python 3 (ipykernel)",
   "language": "python",
   "name": "python3"
  },
  "language_info": {
   "codemirror_mode": {
    "name": "ipython",
    "version": 3
   },
   "file_extension": ".py",
   "mimetype": "text/x-python",
   "name": "python",
   "nbconvert_exporter": "python",
   "pygments_lexer": "ipython3",
   "version": "3.11.10"
  }
 },
 "nbformat": 4,
 "nbformat_minor": 5
}
