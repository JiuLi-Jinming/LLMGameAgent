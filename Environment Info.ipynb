{
 "cells": [
  {
   "cell_type": "code",
   "execution_count": null,
   "id": "ae0db9a8-74f4-4b15-9b66-52afa4e5f77f",
   "metadata": {},
   "outputs": [],
   "source": [
    "# Current Libs"
   ]
  },
  {
   "cell_type": "code",
   "execution_count": null,
   "id": "4342a4f0-e808-47b5-aa68-7d7cd5afdd4e",
   "metadata": {},
   "outputs": [],
   "source": [
    "# Jericho\n",
    "!python -m pip install jericho\n",
    "!python -m spacy download en_core_web_sm\n",
    "\n",
    "# KG\n",
    "!python -m pip install networkx\n"
   ]
  },
  {
   "cell_type": "code",
   "execution_count": null,
   "id": "d54ee7bd-be5b-488a-b099-06c75ff352b9",
   "metadata": {},
   "outputs": [],
   "source": [
    "# I'm current using Lalama3.1-8B-Instruct, Lalama3.2-1B-Instruct and Lalama3.1-3B-Instruct based on Hugging Face\n",
    "# with pytorch-cuda 12.1\n",
    "# !pip install transformers datasets evaluate accelerate"
   ]
  }
 ],
 "metadata": {
  "kernelspec": {
   "display_name": "Python 3 (ipykernel)",
   "language": "python",
   "name": "python3"
  },
  "language_info": {
   "codemirror_mode": {
    "name": "ipython",
    "version": 3
   },
   "file_extension": ".py",
   "mimetype": "text/x-python",
   "name": "python",
   "nbconvert_exporter": "python",
   "pygments_lexer": "ipython3",
   "version": "3.11.10"
  }
 },
 "nbformat": 4,
 "nbformat_minor": 5
}
