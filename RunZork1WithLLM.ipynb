{
 "cells": [
  {
   "cell_type": "code",
   "execution_count": null,
   "id": "initial_id",
   "metadata": {
    "collapsed": true
   },
   "outputs": [],
   "source": [
    "from jericho import *\n",
    "from transformers import AutoTokenizer, pipeline\n",
    "import torch\n",
    "import json"
   ]
  },
  {
   "metadata": {},
   "cell_type": "code",
   "outputs": [],
   "execution_count": null,
   "source": [
    "dict = \"/media/jinming/Disk/Jinming/LLM/\"\n",
    "\n",
    "model_id = dict + \"meta-llama/Meta-Llama-3.1-8B-Instruct\"\n",
    "\n",
    "tokenizer= AutoTokenizer.from_pretrained(model_id)\n",
    "\n",
    "model = pipeline(\n",
    "    \"text-generation\",\n",
    "    model=model_id,\n",
    "    pad_token_id = tokenizer.eos_token_id,\n",
    "    torch_dtype=torch.bfloat16,\n",
    "    device_map=\"auto\",\n",
    ")"
   ],
   "id": "69d667d64905b44b"
  },
  {
   "metadata": {},
   "cell_type": "code",
   "outputs": [],
   "execution_count": null,
   "source": [
    "def pipline_inference(message):\n",
    "    response = model(\n",
    "        message,\n",
    "        max_new_tokens=512,\n",
    "        temperature=0.6,\n",
    "        do_sample = True,\n",
    "        top_p=0.4, \n",
    "    )"
   ],
   "id": "b7d5e7768b48bc26"
  },
  {
   "metadata": {},
   "cell_type": "code",
   "outputs": [],
   "execution_count": null,
   "source": [
    "basic_prompt = r\"\"\"\n",
    "You are going to play the text-based game \"Zork 1\". \"Zork 1\" is a interactive fiction (IF) game played on a computer with text only. In \"Zork 1\" you will receive observation from your previous action. Based on those information, you need to think and plain carefully. You task is to achieve the scores as higher as you can. \n",
    "\n",
    "Here are some useful information:\n",
    "1. You can use ['north', 'south', 'east', 'west', 'southeast', 'southwest', 'northeast', 'northwest', 'up', 'down'] to go directions.\n",
    "2. If you try to get more information for current location, you can use 'look' which will show you the details of current location.\n",
    "3. You can use 'inventory' which will show what you are currently have.\n",
    "4. You can try to do some \"action\" to objects for getting feedback. Sometimes the actions may not work, you may need to use other approach.\n",
    "5. you will receive the history of last 10 actions, and their feedback.\n",
    "6. Think it step by step, then give the most fitted action.\n",
    " \n",
    "\"\"\""
   ],
   "id": "7c0d32d7008e9785"
  },
  {
   "metadata": {},
   "cell_type": "code",
   "outputs": [],
   "execution_count": null,
   "source": [
    "history_prompt = r\"\"\"\n",
    "Here are history of last 10 actions:\n",
    "\"\"\"\n",
    "\n",
    "acting_prompt = r\"\"\"\n",
    "Now you may make your action step by stp. Please give the result in \"<ot> <ot>\".\n",
    "\"\"\""
   ],
   "id": "c294ab5a12ffc627"
  },
  {
   "metadata": {},
   "cell_type": "code",
   "outputs": [],
   "execution_count": null,
   "source": [
    "states = []\n",
    "\n",
    "env = FrotzEnv(\"third-packages/z-machine-games-master/jericho-game-suite/night.z5\")\n",
    "\n",
    "initial_observation, initial_info = env.reset()\n",
    "done = False\n",
    "print(initial_observation)\n",
    "print(initial_info)\n",
    "\n",
    "states.append({'observation': initial_observation, 'inventory': \"\", 'info': initial_info, 'done': done, 'act': None})\n",
    "\n",
    "\n",
    "\n"
   ],
   "id": "4593044a2dd1afac"
  },
  {
   "metadata": {},
   "cell_type": "code",
   "outputs": [],
   "execution_count": null,
   "source": "",
   "id": "7ec1af2683af312b"
  },
  {
   "metadata": {},
   "cell_type": "code",
   "outputs": [],
   "execution_count": null,
   "source": [
    "filename = \"\"\n",
    "with open(filename, 'w') as file:\n",
    "    for state in states:\n",
    "        file.write(json.dumps(state) + '\\n')\n",
    "    print(f\"Results saved in {filename}\")"
   ],
   "id": "35051fc1389feee4"
  }
 ],
 "metadata": {
  "kernelspec": {
   "display_name": "Python 3",
   "language": "python",
   "name": "python3"
  },
  "language_info": {
   "codemirror_mode": {
    "name": "ipython",
    "version": 2
   },
   "file_extension": ".py",
   "mimetype": "text/x-python",
   "name": "python",
   "nbconvert_exporter": "python",
   "pygments_lexer": "ipython2",
   "version": "2.7.6"
  }
 },
 "nbformat": 4,
 "nbformat_minor": 5
}
